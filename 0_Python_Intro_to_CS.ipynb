{
  "nbformat": 4,
  "nbformat_minor": 0,
  "metadata": {
    "colab": {
      "name": "0_Python_Intro_to_CS.ipynb",
      "provenance": [],
      "collapsed_sections": [],
      "authorship_tag": "ABX9TyO8tcSpHtjqDGf/h5Y4POxm",
      "include_colab_link": true
    },
    "kernelspec": {
      "name": "python3",
      "display_name": "Python 3"
    },
    "language_info": {
      "name": "python"
    }
  },
  "cells": [
    {
      "cell_type": "markdown",
      "metadata": {
        "id": "view-in-github",
        "colab_type": "text"
      },
      "source": [
        "<a href=\"https://colab.research.google.com/github/ganesh737/The-Pragmatic-Programmer/blob/master/0_Python_Intro_to_CS.ipynb\" target=\"_parent\"><img src=\"https://colab.research.google.com/assets/colab-badge.svg\" alt=\"Open In Colab\"/></a>"
      ]
    },
    {
      "cell_type": "markdown",
      "metadata": {
        "id": "LUCjohyGF3cH"
      },
      "source": [
        "# Python Programming: An Introduction to Computer Science by John M. Zelle"
      ]
    },
    {
      "cell_type": "markdown",
      "metadata": {
        "id": "QrhxczruAe98"
      },
      "source": [
        "# 1. Simple Programs in Python\n",
        "\n",
        "The first part is print \"hello world!!!\"\n"
      ]
    },
    {
      "cell_type": "code",
      "metadata": {
        "colab": {
          "base_uri": "https://localhost:8080/"
        },
        "id": "SE_lfdZHGKqa",
        "outputId": "4da93dda-a789-480e-b5b6-4cbfebd5f1ba"
      },
      "source": [
        "print(\"hello world!!!\")"
      ],
      "execution_count": null,
      "outputs": [
        {
          "output_type": "stream",
          "text": [
            "hello world!!!\n"
          ],
          "name": "stdout"
        }
      ]
    },
    {
      "cell_type": "markdown",
      "metadata": {
        "id": "4Z-b0vE0GN1X"
      },
      "source": [
        "Next, a simple program to illustrate some chaotic behavior"
      ]
    },
    {
      "cell_type": "code",
      "metadata": {
        "id": "iZKUtEg9GjxJ"
      },
      "source": [
        "print(\"This program illustrates a chaotic function\")\n",
        "x = eval(input(\"Enter a number between 0 and 1: \"))\n",
        "for i in range(10):\n",
        "  x = 3.9 * x * (1-x)\n",
        "  print(x)"
      ],
      "execution_count": null,
      "outputs": []
    },
    {
      "cell_type": "markdown",
      "metadata": {
        "id": "eg9TlV0rG8wu"
      },
      "source": [
        "Let us try a simple program to convert Celsius to Farenheit"
      ]
    },
    {
      "cell_type": "code",
      "metadata": {
        "id": "9HBcfcpeHnYV"
      },
      "source": [
        "def main():\n",
        "  celsius = eval(input(\"What is the temperature in Celsius? \"))\n",
        "  farenheit = 32 + 9*celsius/5\n",
        "  print(farenheit)\n",
        "\n",
        "main()"
      ],
      "execution_count": null,
      "outputs": []
    },
    {
      "cell_type": "markdown",
      "metadata": {
        "id": "Fx_5sUM-IJrh"
      },
      "source": [
        "## Keywords\n",
        "\n",
        "One of the most important part of a programming language are its keywords.\n",
        "\n",
        "The keywords in Python are -\n",
        "- False\n",
        "- None\n",
        "- True\n",
        "- and\n",
        "- as\n",
        "- assert\n",
        "- break\n",
        "- class\n",
        "- continue\n",
        "- def\n",
        "- del\n",
        "- elif\n",
        "- else\n",
        "- except\n",
        "- finally\n",
        "- for\n",
        "- from\n",
        "- global\n",
        "- if\n",
        "- import\n",
        "- in\n",
        "- is\n",
        "- lambda\n",
        "- nonlocal\n",
        "- not\n",
        "- or\n",
        "- pass\n",
        "- raise\n",
        "- return\n",
        "- try\n",
        "- while\n",
        "- with\n",
        "- yield"
      ]
    },
    {
      "cell_type": "markdown",
      "metadata": {
        "id": "sYaDMvYgI4QL"
      },
      "source": [
        "## Output Statements\n",
        "\n",
        "```python\n",
        "print(<expr>, <expr>, ... , <expr>)\n",
        "```\n",
        "\n",
        "We can specify the ending character for print() using 'end'\n",
        "```python\n",
        "print(<expr>, <expr>, ... , <expr>, end=\"\\n\")\n",
        "```"
      ]
    },
    {
      "cell_type": "markdown",
      "metadata": {
        "id": "xZ2Pep1eJeSe"
      },
      "source": [
        "## Assignment Statements\n",
        "\n",
        "### Simple Assignment\n",
        "\n",
        "Assignment is possible as Simple Assignment -\n",
        "```python\n",
        "<variable> = <expr>\n",
        "```\n",
        "\n",
        "The variables themselves act more like pointers to the data in heap. So assigning new values to a variable can mean new location that it is pointing to with the assigned value.\n",
        "\n",
        "The memory that is left so is cleaned up with *Automatic Memory Management* or *Garbage Collector*\n",
        "\n",
        "### Assigning Input\n",
        "\n",
        "```python\n",
        "<variable> = input(<prompt>)\n",
        "```\n",
        "\n",
        "Input usually returns a string. So we need to do a little extra for numerical inputs\n",
        "```python\n",
        "<variable> = eval(input(<prompt>))\n",
        "```\n",
        "\n",
        "### Simultaneous Assignment\n",
        "\n",
        "```python\n",
        "<var>, <var>, ... , <var> = <expr>, <expr>, ... , <expr>\n",
        "```\n",
        "\n",
        "It tells Python to evaluate all the expressions on the RHS and then assign these values to the corresponding variables on LHS\n",
        "\n",
        "This helps in shuffle -\n",
        "```python\n",
        "x, y = y, x\n",
        "```\n",
        "\n",
        "It is also useful for\n",
        "- Simultaneous inputs from user\n",
        "- Return multiple values from function"
      ]
    },
    {
      "cell_type": "code",
      "metadata": {
        "id": "5xNCB9vULUJ-"
      },
      "source": [
        "def main():\n",
        "  print(\"This program computes the average of two exam scores.\")\n",
        "\n",
        "  score1, score2 = eval(input(\"Enter two scores separated by comma: \"))\n",
        "  average = (score1 + score2) / 2\n",
        "\n",
        "  print(\"The average of the scores is:\", average)\n",
        "\n",
        "main()"
      ],
      "execution_count": null,
      "outputs": []
    },
    {
      "cell_type": "markdown",
      "metadata": {
        "id": "AVxailw3L547"
      },
      "source": [
        "## Definite Loops\n",
        "\n",
        "*Counted Loop* or *Definite Loop* has the count of number of iterations at the beginning of the loop\n",
        "\n",
        "```python\n",
        "for <var> in <sequence>:\n",
        "  <body>\n",
        "```"
      ]
    },
    {
      "cell_type": "markdown",
      "metadata": {
        "id": "tCuRzyLEijTV"
      },
      "source": [
        "## Gyan from Authors\n",
        "\n",
        "Writing a program requires a systematic approach to problem solving and involves the following steps:\n",
        "1. Problem Analysis: Studying the problem to be solved\n",
        "2. Problem Specification: Deciding exactly what the program will do\n",
        "3. Design: Writing an algorithm in psuedocode\n",
        "4. Implementation: Translating the design into a programming language\n",
        "5. Testing/Debugging: Finding and fixing errors in the program\n",
        "6. Maintenance: Keeping the program up to date with evolving needs\n"
      ]
    },
    {
      "cell_type": "markdown",
      "metadata": {
        "id": "FIHtlvrFjAJ4"
      },
      "source": [
        "# 2. Computing with Numbers\n",
        "\n",
        "## Basic Operators\n",
        "\n",
        "The basic operations possible in Python are -\n",
        "\n",
        "| operator | operation |\n",
        "|:---:|:---:|\n",
        "| + | addition |\n",
        "| - | subtraction |\n",
        "| * | multiplication |\n",
        "| / | float division |\n",
        "| ** | exponentiation |\n",
        "| abs() | absolute value |\n",
        "| // | integer division |\n",
        "| % | remainder |\n"
      ]
    },
    {
      "cell_type": "markdown",
      "metadata": {
        "id": "DrQG3KIpjuj0"
      },
      "source": [
        "## Math Library\n",
        "\n",
        "Some of the functions that are part of Math library are -\n",
        "\n",
        "| Python | Mathematics | English |\n",
        "|---|---|---|\n",
        "| pi | $\\pi$ | An approximation of pi |\n",
        "| e | $e$ | An approximation of e |\n",
        "| sin(x) | $sin(x)$ | The sine of x |\n",
        "| cos(x) | $sin(x)$ | The sine of x |\n",
        "| tan(x) | $sin(x)$ | The sine of x |\n",
        "| asin(x) | $sin(x)$ | The sine of x |\n",
        "| acos(x) | $sin(x)$ | The sine of x |\n",
        "| atan(x) | $sin(x)$ | The sine of x |\n",
        "| sin(x) | $sin(x)$ | The sine of x |\n",
        "| sin(x) | $sin(x)$ | The sine of x |\n",
        "| sin(x) | $sin(x)$ | The sine of x |\n",
        "| sin(x) | $sin(x)$ | The sine of x |\n",
        "| sin(x) | $sin(x)$ | The sine of x |"
      ]
    }
  ]
}